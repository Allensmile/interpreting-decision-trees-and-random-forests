{
 "cells": [
  {
   "cell_type": "code",
   "execution_count": 16,
   "metadata": {
    "ExecuteTime": {
     "end_time": "2017-05-18T15:57:44.049629Z",
     "start_time": "2017-05-18T15:57:43.236623Z"
    },
    "collapsed": false,
    "deletable": true,
    "editable": true
   },
   "outputs": [],
   "source": [
    "%matplotlib inline\n",
    "import matplotlib.pyplot as plt\n",
    "import numpy as np\n",
    "import pandas as pd\n",
    "\n",
    "from sklearn.model_selection import train_test_split\n",
    "from sklearn.ensemble import RandomForestClassifier, RandomForestRegressor\n",
    "from sklearn.tree import DecisionTreeClassifier, DecisionTreeRegressor, export_graphviz\n",
    "\n",
    "from treeinterpreter import treeinterpreter as ti\n",
    "\n",
    "import pydotplus\n",
    "from IPython.display import Image, display"
   ]
  },
  {
   "cell_type": "code",
   "execution_count": 4,
   "metadata": {
    "ExecuteTime": {
     "end_time": "2017-05-18T15:57:44.276838Z",
     "start_time": "2017-05-18T15:57:44.249408Z"
    },
    "collapsed": false,
    "deletable": true,
    "editable": true
   },
   "outputs": [
    {
     "data": {
      "text/html": [
       "<div>\n",
       "<table border=\"1\" class=\"dataframe\">\n",
       "  <thead>\n",
       "    <tr style=\"text-align: right;\">\n",
       "      <th></th>\n",
       "      <th>sex</th>\n",
       "      <th>length</th>\n",
       "      <th>diameter</th>\n",
       "      <th>height</th>\n",
       "      <th>whole weight</th>\n",
       "      <th>shucked weight</th>\n",
       "      <th>viscera weight</th>\n",
       "      <th>shell weight</th>\n",
       "      <th>rings</th>\n",
       "      <th>y</th>\n",
       "    </tr>\n",
       "  </thead>\n",
       "  <tbody>\n",
       "    <tr>\n",
       "      <th>0</th>\n",
       "      <td>2</td>\n",
       "      <td>0.455</td>\n",
       "      <td>0.365</td>\n",
       "      <td>0.095</td>\n",
       "      <td>0.5140</td>\n",
       "      <td>0.2245</td>\n",
       "      <td>0.1010</td>\n",
       "      <td>0.150</td>\n",
       "      <td>15</td>\n",
       "      <td>1</td>\n",
       "    </tr>\n",
       "    <tr>\n",
       "      <th>1</th>\n",
       "      <td>2</td>\n",
       "      <td>0.350</td>\n",
       "      <td>0.265</td>\n",
       "      <td>0.090</td>\n",
       "      <td>0.2255</td>\n",
       "      <td>0.0995</td>\n",
       "      <td>0.0485</td>\n",
       "      <td>0.070</td>\n",
       "      <td>7</td>\n",
       "      <td>0</td>\n",
       "    </tr>\n",
       "    <tr>\n",
       "      <th>2</th>\n",
       "      <td>0</td>\n",
       "      <td>0.530</td>\n",
       "      <td>0.420</td>\n",
       "      <td>0.135</td>\n",
       "      <td>0.6770</td>\n",
       "      <td>0.2565</td>\n",
       "      <td>0.1415</td>\n",
       "      <td>0.210</td>\n",
       "      <td>9</td>\n",
       "      <td>0</td>\n",
       "    </tr>\n",
       "    <tr>\n",
       "      <th>3</th>\n",
       "      <td>2</td>\n",
       "      <td>0.440</td>\n",
       "      <td>0.365</td>\n",
       "      <td>0.125</td>\n",
       "      <td>0.5160</td>\n",
       "      <td>0.2155</td>\n",
       "      <td>0.1140</td>\n",
       "      <td>0.155</td>\n",
       "      <td>10</td>\n",
       "      <td>1</td>\n",
       "    </tr>\n",
       "    <tr>\n",
       "      <th>4</th>\n",
       "      <td>1</td>\n",
       "      <td>0.330</td>\n",
       "      <td>0.255</td>\n",
       "      <td>0.080</td>\n",
       "      <td>0.2050</td>\n",
       "      <td>0.0895</td>\n",
       "      <td>0.0395</td>\n",
       "      <td>0.055</td>\n",
       "      <td>7</td>\n",
       "      <td>0</td>\n",
       "    </tr>\n",
       "  </tbody>\n",
       "</table>\n",
       "</div>"
      ],
      "text/plain": [
       "   sex  length  diameter  height  whole weight  shucked weight  \\\n",
       "0    2   0.455     0.365   0.095        0.5140          0.2245   \n",
       "1    2   0.350     0.265   0.090        0.2255          0.0995   \n",
       "2    0   0.530     0.420   0.135        0.6770          0.2565   \n",
       "3    2   0.440     0.365   0.125        0.5160          0.2155   \n",
       "4    1   0.330     0.255   0.080        0.2050          0.0895   \n",
       "\n",
       "   viscera weight  shell weight  rings  y  \n",
       "0          0.1010         0.150     15  1  \n",
       "1          0.0485         0.070      7  0  \n",
       "2          0.1415         0.210      9  0  \n",
       "3          0.1140         0.155     10  1  \n",
       "4          0.0395         0.055      7  0  "
      ]
     },
     "execution_count": 4,
     "metadata": {},
     "output_type": "execute_result"
    }
   ],
   "source": [
    "column_names = [\"sex\", \"length\", \"diameter\", \"height\", \"whole weight\", \n",
    "                \"shucked weight\", \"viscera weight\", \"shell weight\", \"rings\"]\n",
    "abalone_df = pd.read_csv('abalone.csv', names=column_names)\n",
    "abalone_df['sex'] = abalone_df['sex'].map({'F': 0, 'I': 1, 'M': 2})\n",
    "abalone_df['y'] = abalone_df.rings.map(lambda x: 1 if x > 9 else 0)\n",
    "abalone_df.head()"
   ]
  },
  {
   "cell_type": "markdown",
   "metadata": {
    "deletable": true,
    "editable": true
   },
   "source": [
    "# Classifier"
   ]
  },
  {
   "cell_type": "code",
   "execution_count": 17,
   "metadata": {
    "collapsed": true
   },
   "outputs": [],
   "source": [
    "abalone_train, abalone_test = train_test_split(abalone_df, test_size=0.2, train_size=0.8)"
   ]
  },
  {
   "cell_type": "code",
   "execution_count": 31,
   "metadata": {
    "ExecuteTime": {
     "end_time": "2017-05-18T15:57:52.374368Z",
     "start_time": "2017-05-18T15:57:52.370769Z"
    },
    "collapsed": false,
    "deletable": true,
    "editable": true
   },
   "outputs": [],
   "source": [
    "X_train = abalone_train.iloc[:, :-2]\n",
    "y_train = abalone_train['y']\n",
    "\n",
    "X_test = abalone_test.iloc[:, :-2]\n",
    "y_test = abalone_test['y']"
   ]
  },
  {
   "cell_type": "code",
   "execution_count": 6,
   "metadata": {
    "ExecuteTime": {
     "end_time": "2017-05-18T15:57:52.591424Z",
     "start_time": "2017-05-18T15:57:52.582718Z"
    },
    "collapsed": false,
    "deletable": true,
    "editable": true
   },
   "outputs": [
    {
     "data": {
      "text/plain": [
       "DecisionTreeClassifier(class_weight=None, criterion='entropy', max_depth=1,\n",
       "            max_features=None, max_leaf_nodes=None,\n",
       "            min_impurity_split=1e-07, min_samples_leaf=1,\n",
       "            min_samples_split=2, min_weight_fraction_leaf=0.0,\n",
       "            presort=False, random_state=0, splitter='best')"
      ]
     },
     "execution_count": 6,
     "metadata": {},
     "output_type": "execute_result"
    }
   ],
   "source": [
    "dt_clf = DecisionTreeClassifier(criterion='entropy', max_depth=1, random_state=0)\n",
    "\n",
    "dt_clf.fit(X_train, y_train)"
   ]
  },
  {
   "cell_type": "code",
   "execution_count": 7,
   "metadata": {
    "ExecuteTime": {
     "end_time": "2017-05-18T15:57:52.780933Z",
     "start_time": "2017-05-18T15:57:52.777205Z"
    },
    "collapsed": false,
    "deletable": true,
    "editable": true
   },
   "outputs": [],
   "source": [
    "dt_clf_path = dt_clf.decision_path(X_train)\n",
    "\n",
    "dt_clf_path = dt_clf_path.toarray()"
   ]
  },
  {
   "cell_type": "code",
   "execution_count": 8,
   "metadata": {
    "ExecuteTime": {
     "end_time": "2017-05-18T15:58:02.985262Z",
     "start_time": "2017-05-18T15:58:02.950779Z"
    },
    "collapsed": false,
    "deletable": true,
    "editable": true
   },
   "outputs": [
    {
     "data": {
      "text/plain": [
       "1, 1, 0    2267\n",
       "1, 0, 1    1910\n",
       "dtype: int64"
      ]
     },
     "execution_count": 8,
     "metadata": {},
     "output_type": "execute_result"
    }
   ],
   "source": [
    "dt_clf_path_array = [', '.join([str(i) for i in dt_clf_path[j]])\n",
    "                     for j in xrange(len(dt_clf_path))]\n",
    "\n",
    "pd.Series(dt_clf_path_array).value_counts()"
   ]
  },
  {
   "cell_type": "code",
   "execution_count": 9,
   "metadata": {
    "ExecuteTime": {
     "end_time": "2017-05-18T15:58:03.785056Z",
     "start_time": "2017-05-18T15:58:03.781304Z"
    },
    "collapsed": false,
    "deletable": true,
    "editable": true
   },
   "outputs": [],
   "source": [
    "group_df = pd.DataFrame({'y': y_train,\n",
    "                         'dt_clf_path': dt_clf_path_array\n",
    "                        })"
   ]
  },
  {
   "cell_type": "code",
   "execution_count": 12,
   "metadata": {
    "ExecuteTime": {
     "end_time": "2017-05-18T15:58:04.473050Z",
     "start_time": "2017-05-18T15:58:04.461081Z"
    },
    "collapsed": false,
    "deletable": true,
    "editable": true
   },
   "outputs": [
    {
     "data": {
      "text/html": [
       "<div>\n",
       "<table border=\"1\" class=\"dataframe\">\n",
       "  <thead>\n",
       "    <tr style=\"text-align: right;\">\n",
       "      <th></th>\n",
       "      <th>mean</th>\n",
       "      <th>size</th>\n",
       "    </tr>\n",
       "    <tr>\n",
       "      <th>dt_clf_path</th>\n",
       "      <th></th>\n",
       "      <th></th>\n",
       "    </tr>\n",
       "  </thead>\n",
       "  <tbody>\n",
       "    <tr>\n",
       "      <th>1, 0, 1</th>\n",
       "      <td>0.781152</td>\n",
       "      <td>1910</td>\n",
       "    </tr>\n",
       "    <tr>\n",
       "      <th>1, 1, 0</th>\n",
       "      <td>0.259815</td>\n",
       "      <td>2267</td>\n",
       "    </tr>\n",
       "  </tbody>\n",
       "</table>\n",
       "</div>"
      ],
      "text/plain": [
       "                 mean  size\n",
       "dt_clf_path                \n",
       "1, 0, 1      0.781152  1910\n",
       "1, 1, 0      0.259815  2267"
      ]
     },
     "execution_count": 12,
     "metadata": {},
     "output_type": "execute_result"
    }
   ],
   "source": [
    "group_df\\\n",
    "    .groupby('dt_clf_path')\\\n",
    "    .agg([np.mean, np.size])\\\n",
    "    .y\\\n",
    "    .sort_values('size')"
   ]
  },
  {
   "cell_type": "code",
   "execution_count": 13,
   "metadata": {
    "ExecuteTime": {
     "end_time": "2017-05-18T15:58:05.028760Z",
     "start_time": "2017-05-18T15:58:05.022296Z"
    },
    "collapsed": false,
    "deletable": true,
    "editable": true
   },
   "outputs": [
    {
     "data": {
      "text/plain": [
       "0.781152    1910\n",
       "0.259815    2267\n",
       "dtype: int64"
      ]
     },
     "execution_count": 13,
     "metadata": {},
     "output_type": "execute_result"
    }
   ],
   "source": [
    "y_score = dt_clf.predict_proba(X_train)[:, 1]\n",
    "\n",
    "pd.Series(y_score)\\\n",
    "    .value_counts()\\\n",
    "    .sort_values()"
   ]
  },
  {
   "cell_type": "markdown",
   "metadata": {
    "deletable": true,
    "editable": true
   },
   "source": [
    "# Regressor"
   ]
  },
  {
   "cell_type": "code",
   "execution_count": 14,
   "metadata": {
    "ExecuteTime": {
     "end_time": "2017-05-18T15:58:05.591351Z",
     "start_time": "2017-05-18T15:58:05.588439Z"
    },
    "collapsed": true,
    "deletable": true,
    "editable": true
   },
   "outputs": [],
   "source": [
    "y_train_2 = abalone_df.rings"
   ]
  },
  {
   "cell_type": "code",
   "execution_count": 15,
   "metadata": {
    "ExecuteTime": {
     "end_time": "2017-05-18T15:58:05.817304Z",
     "start_time": "2017-05-18T15:58:05.810555Z"
    },
    "collapsed": false,
    "deletable": true,
    "editable": true
   },
   "outputs": [
    {
     "data": {
      "text/plain": [
       "DecisionTreeRegressor(criterion='mse', max_depth=1, max_features=None,\n",
       "           max_leaf_nodes=None, min_impurity_split=1e-07,\n",
       "           min_samples_leaf=1, min_samples_split=2,\n",
       "           min_weight_fraction_leaf=0.0, presort=False, random_state=0,\n",
       "           splitter='best')"
      ]
     },
     "execution_count": 15,
     "metadata": {},
     "output_type": "execute_result"
    }
   ],
   "source": [
    "dt_reg = DecisionTreeRegressor(max_depth=1, random_state=0)\n",
    "dt_reg.fit(X_train, y_train_2)"
   ]
  },
  {
   "cell_type": "code",
   "execution_count": 16,
   "metadata": {
    "ExecuteTime": {
     "end_time": "2017-05-18T15:58:06.218988Z",
     "start_time": "2017-05-18T15:58:06.188243Z"
    },
    "collapsed": false,
    "deletable": true,
    "editable": true
   },
   "outputs": [],
   "source": [
    "dt_reg_path = dt_reg.decision_path(X_train).toarray()\n",
    "\n",
    "dt_reg_path_array = [', '.join([str(i) for i in dt_reg_path[j]])\n",
    "                         for j in xrange(len(dt_reg_path))]"
   ]
  },
  {
   "cell_type": "code",
   "execution_count": 17,
   "metadata": {
    "ExecuteTime": {
     "end_time": "2017-05-18T15:58:06.529817Z",
     "start_time": "2017-05-18T15:58:06.525788Z"
    },
    "collapsed": false,
    "deletable": true,
    "editable": true
   },
   "outputs": [],
   "source": [
    "group_df = pd.DataFrame({'y': y_train_2,\n",
    "                         'dt_reg_path': dt_reg_path_array\n",
    "                        })"
   ]
  },
  {
   "cell_type": "code",
   "execution_count": 18,
   "metadata": {
    "ExecuteTime": {
     "end_time": "2017-05-18T15:58:06.906998Z",
     "start_time": "2017-05-18T15:58:06.895663Z"
    },
    "collapsed": false,
    "deletable": true,
    "editable": true
   },
   "outputs": [
    {
     "data": {
      "text/html": [
       "<div>\n",
       "<table border=\"1\" class=\"dataframe\">\n",
       "  <thead>\n",
       "    <tr style=\"text-align: right;\">\n",
       "      <th></th>\n",
       "      <th>mean</th>\n",
       "      <th>size</th>\n",
       "    </tr>\n",
       "    <tr>\n",
       "      <th>dt_reg_path</th>\n",
       "      <th></th>\n",
       "      <th></th>\n",
       "    </tr>\n",
       "  </thead>\n",
       "  <tbody>\n",
       "    <tr>\n",
       "      <th>1, 1, 0</th>\n",
       "      <td>7.556412</td>\n",
       "      <td>1427</td>\n",
       "    </tr>\n",
       "    <tr>\n",
       "      <th>1, 0, 1</th>\n",
       "      <td>11.167273</td>\n",
       "      <td>2750</td>\n",
       "    </tr>\n",
       "  </tbody>\n",
       "</table>\n",
       "</div>"
      ],
      "text/plain": [
       "                  mean  size\n",
       "dt_reg_path                 \n",
       "1, 1, 0       7.556412  1427\n",
       "1, 0, 1      11.167273  2750"
      ]
     },
     "execution_count": 18,
     "metadata": {},
     "output_type": "execute_result"
    }
   ],
   "source": [
    "group_df\\\n",
    "    .groupby('dt_reg_path')\\\n",
    "    .agg([np.mean, np.size])\\\n",
    "    .y\\\n",
    "    .sort_values('size')"
   ]
  },
  {
   "cell_type": "code",
   "execution_count": 19,
   "metadata": {
    "ExecuteTime": {
     "end_time": "2017-05-18T15:58:07.104439Z",
     "start_time": "2017-05-18T15:58:07.098122Z"
    },
    "collapsed": false,
    "deletable": true,
    "editable": true
   },
   "outputs": [
    {
     "data": {
      "text/plain": [
       "7.556412     1427\n",
       "11.167273    2750\n",
       "dtype: int64"
      ]
     },
     "execution_count": 19,
     "metadata": {},
     "output_type": "execute_result"
    }
   ],
   "source": [
    "y_score_2 = dt_reg.predict(X_train)\n",
    "\n",
    "pd.Series(y_score_2)\\\n",
    "    .value_counts()\\\n",
    "    .sort_values()"
   ]
  },
  {
   "cell_type": "markdown",
   "metadata": {
    "deletable": true,
    "editable": true
   },
   "source": [
    "# Tree Interpreter"
   ]
  },
  {
   "cell_type": "code",
   "execution_count": 20,
   "metadata": {
    "ExecuteTime": {
     "end_time": "2017-05-18T15:58:07.560058Z",
     "start_time": "2017-05-18T15:58:07.482115Z"
    },
    "collapsed": false,
    "deletable": true,
    "editable": true
   },
   "outputs": [
    {
     "data": {
      "image/png": "[encoded data removed]",
      "text/plain": [
       "<IPython.core.display.Image object>"
      ]
     },
     "execution_count": 20,
     "metadata": {},
     "output_type": "execute_result"
    }
   ],
   "source": [
    "dot_data = export_graphviz(dt_reg, out_file=None, feature_names=X_train.columns)\n",
    "graph = pydotplus.graph_from_dot_data(dot_data)\n",
    "Image(graph.create_png())"
   ]
  },
  {
   "cell_type": "code",
   "execution_count": 21,
   "metadata": {
    "ExecuteTime": {
     "end_time": "2017-05-18T15:58:08.118822Z",
     "start_time": "2017-05-18T15:58:08.043967Z"
    },
    "collapsed": false,
    "deletable": true,
    "editable": true
   },
   "outputs": [
    {
     "data": {
      "image/png": "[encoded data removed]",
      "text/plain": [
       "<IPython.core.display.Image object>"
      ]
     },
     "execution_count": 21,
     "metadata": {},
     "output_type": "execute_result"
    }
   ],
   "source": [
    "dot_data = export_graphviz(dt_clf, out_file=None, feature_names=X_train.columns)\n",
    "graph = pydotplus.graph_from_dot_data(dot_data)\n",
    "Image(graph.create_png())"
   ]
  },
  {
   "cell_type": "code",
   "execution_count": 22,
   "metadata": {
    "ExecuteTime": {
     "end_time": "2017-05-18T15:58:08.465126Z",
     "start_time": "2017-05-18T15:58:08.444741Z"
    },
    "collapsed": false,
    "deletable": true,
    "editable": true
   },
   "outputs": [
    {
     "name": "stdout",
     "output_type": "stream",
     "text": [
      "[[ 0.          0.        ]\n",
      " [ 0.          0.        ]\n",
      " [ 0.          0.        ]\n",
      " [ 0.          0.        ]\n",
      " [ 0.          0.        ]\n",
      " [ 0.          0.        ]\n",
      " [ 0.          0.        ]\n",
      " [ 0.23838972 -0.23838972]]\n",
      "0.2384\n"
     ]
    }
   ],
   "source": [
    "pred, bias, contrib = ti.predict(dt_clf, X_train)\n",
    "\n",
    "print contrib[0]\n",
    "\n",
    "print 0.4982 - 0.2598"
   ]
  },
  {
   "cell_type": "markdown",
   "metadata": {
    "deletable": true,
    "editable": true
   },
   "source": [
    "## Depth of 2"
   ]
  },
  {
   "cell_type": "code",
   "execution_count": 88,
   "metadata": {
    "ExecuteTime": {
     "end_time": "2017-05-18T19:08:33.378750Z",
     "start_time": "2017-05-18T19:08:33.350927Z"
    },
    "collapsed": true,
    "deletable": true,
    "editable": true
   },
   "outputs": [],
   "source": [
    "dt_clf = DecisionTreeClassifier(criterion='entropy', max_depth=2, random_state=0)\n",
    "\n",
    "dt_clf.fit(X_train, y_train)\n",
    "X_test = X_train.iloc[:10, :]\n",
    "pred, bias, contrib = ti.predict(dt_clf, X_train)"
   ]
  },
  {
   "cell_type": "code",
   "execution_count": 89,
   "metadata": {
    "ExecuteTime": {
     "end_time": "2017-05-18T19:08:33.662836Z",
     "start_time": "2017-05-18T19:08:33.554316Z"
    },
    "collapsed": false,
    "deletable": true,
    "editable": true
   },
   "outputs": [
    {
     "data": {
      "image/png": "[encoded data removed]",
      "text/plain": [
       "<IPython.core.display.Image object>"
      ]
     },
     "execution_count": 89,
     "metadata": {},
     "output_type": "execute_result"
    }
   ],
   "source": [
    "dot_data = export_graphviz(dt_clf, out_file=None, feature_names=X_train.columns)\n",
    "graph = pydotplus.graph_from_dot_data(dot_data)\n",
    "Image(graph.create_png())"
   ]
  },
  {
   "cell_type": "code",
   "execution_count": 90,
   "metadata": {
    "ExecuteTime": {
     "end_time": "2017-05-18T19:08:34.092325Z",
     "start_time": "2017-05-18T19:08:34.079779Z"
    },
    "collapsed": false,
    "deletable": true,
    "editable": true
   },
   "outputs": [
    {
     "data": {
      "text/html": [
       "<div>\n",
       "<table border=\"1\" class=\"dataframe\">\n",
       "  <thead>\n",
       "    <tr style=\"text-align: right;\">\n",
       "      <th></th>\n",
       "      <th>sex</th>\n",
       "      <th>length</th>\n",
       "      <th>diameter</th>\n",
       "      <th>height</th>\n",
       "      <th>whole weight</th>\n",
       "      <th>shucked weight</th>\n",
       "      <th>viscera weight</th>\n",
       "      <th>shell weight</th>\n",
       "    </tr>\n",
       "  </thead>\n",
       "  <tbody>\n",
       "    <tr>\n",
       "      <th>0</th>\n",
       "      <td>2</td>\n",
       "      <td>0.455</td>\n",
       "      <td>0.365</td>\n",
       "      <td>0.095</td>\n",
       "      <td>0.514</td>\n",
       "      <td>0.2245</td>\n",
       "      <td>0.101</td>\n",
       "      <td>0.15</td>\n",
       "    </tr>\n",
       "  </tbody>\n",
       "</table>\n",
       "</div>"
      ],
      "text/plain": [
       "   sex  length  diameter  height  whole weight  shucked weight  \\\n",
       "0    2   0.455     0.365   0.095         0.514          0.2245   \n",
       "\n",
       "   viscera weight  shell weight  \n",
       "0           0.101          0.15  "
      ]
     },
     "execution_count": 90,
     "metadata": {},
     "output_type": "execute_result"
    }
   ],
   "source": [
    "X_train.iloc[0:1, :]"
   ]
  },
  {
   "cell_type": "code",
   "execution_count": 97,
   "metadata": {
    "ExecuteTime": {
     "end_time": "2017-05-18T19:09:07.944072Z",
     "start_time": "2017-05-18T19:09:06.562807Z"
    },
    "collapsed": false,
    "deletable": true,
    "editable": true
   },
   "outputs": [
    {
     "data": {
      "text/plain": [
       "[[ 0.          0.        ]\\n [ 0.          0.        ]\\n [ 0.          0.        ]\\n [ 0.          0.        ]\\n [ 0.          0.        ]\\n [ 0.          0.        ]\\n [ 0.          0.        ]\\n [-0.21304175  0.21304175]]    1316\n",
       "[[ 0.          0.        ]\\n [ 0.          0.        ]\\n [ 0.          0.        ]\\n [ 0.          0.        ]\\n [ 0.          0.        ]\\n [ 0.          0.        ]\\n [ 0.          0.        ]\\n [ 0.38304781 -0.38304781]]    1181\n",
       "[[ 0.          0.        ]\\n [ 0.          0.        ]\\n [ 0.          0.        ]\\n [ 0.          0.        ]\\n [ 0.          0.        ]\\n [ 0.          0.        ]\\n [ 0.          0.        ]\\n [ 0.08107738 -0.08107738]]    1086\n",
       "[[ 0.          0.        ]\\n [ 0.          0.        ]\\n [ 0.          0.        ]\\n [ 0.          0.        ]\\n [ 0.          0.        ]\\n [ 0.          0.        ]\\n [ 0.          0.        ]\\n [-0.43782248  0.43782248]]     594\n",
       "dtype: int64"
      ]
     },
     "execution_count": 97,
     "metadata": {},
     "output_type": "execute_result"
    }
   ],
   "source": [
    "pd.Series([str(i) for i in contrib]).value_counts()"
   ]
  },
  {
   "cell_type": "code",
   "execution_count": 26,
   "metadata": {
    "ExecuteTime": {
     "end_time": "2017-05-18T15:58:09.868324Z",
     "start_time": "2017-05-18T15:58:09.863156Z"
    },
    "collapsed": false,
    "deletable": true,
    "editable": true
   },
   "outputs": [
    {
     "name": "stdout",
     "output_type": "stream",
     "text": [
      "[[ 0.          0.        ]\n",
      " [ 0.          0.        ]\n",
      " [ 0.          0.        ]\n",
      " [ 0.          0.        ]\n",
      " [ 0.          0.        ]\n",
      " [ 0.          0.        ]\n",
      " [ 0.          0.        ]\n",
      " [ 0.08107738 -0.08107738]]\n",
      "\n",
      "-0.0811\n"
     ]
    }
   ],
   "source": [
    "print contrib[0]\n",
    "print\n",
    "print 0.4171 - 0.4982"
   ]
  },
  {
   "cell_type": "markdown",
   "metadata": {
    "deletable": true,
    "editable": true
   },
   "source": [
    "## Depth of 3"
   ]
  },
  {
   "cell_type": "code",
   "execution_count": 32,
   "metadata": {
    "ExecuteTime": {
     "end_time": "2017-05-19T09:19:19.770851Z",
     "start_time": "2017-05-19T09:19:18.955629Z"
    },
    "collapsed": false,
    "deletable": true,
    "editable": true
   },
   "outputs": [
    {
     "data": {
      "text/plain": [
       "DecisionTreeClassifier(class_weight=None, criterion='entropy', max_depth=3,\n",
       "            max_features=None, max_leaf_nodes=None,\n",
       "            min_impurity_split=1e-07, min_samples_leaf=1,\n",
       "            min_samples_split=2, min_weight_fraction_leaf=0.0,\n",
       "            presort=False, random_state=0, splitter='best')"
      ]
     },
     "execution_count": 32,
     "metadata": {},
     "output_type": "execute_result"
    }
   ],
   "source": [
    "dt_clf = DecisionTreeClassifier(criterion='entropy', max_depth=3, random_state=0)\n",
    "# rf_clf = RandomForestClassifier(criterion='entropy', n_estimators=100, random_state=0)\n",
    "\n",
    "dt_clf.fit(X_train, y_train)"
   ]
  },
  {
   "cell_type": "code",
   "execution_count": 21,
   "metadata": {
    "ExecuteTime": {
     "end_time": "2017-05-19T09:19:22.844321Z",
     "start_time": "2017-05-19T09:19:22.802628Z"
    },
    "collapsed": false,
    "deletable": true,
    "editable": true
   },
   "outputs": [
    {
     "name": "stdout",
     "output_type": "stream",
     "text": [
      "CPU times: user 30.8 ms, sys: 7.39 ms, total: 38.2 ms\n",
      "Wall time: 32.9 ms\n"
     ]
    }
   ],
   "source": [
    "%%time\n",
    "pred, bias, contrib = ti.predict(dt_clf, X_train)"
   ]
  },
  {
   "cell_type": "code",
   "execution_count": 22,
   "metadata": {
    "ExecuteTime": {
     "end_time": "2017-05-19T09:19:24.076224Z",
     "start_time": "2017-05-19T09:19:23.865752Z"
    },
    "collapsed": false,
    "deletable": true,
    "editable": true
   },
   "outputs": [
    {
     "data": {
      "image/png": "[encoded data removed]",
      "text/plain": [
       "<IPython.core.display.Image object>"
      ]
     },
     "execution_count": 22,
     "metadata": {},
     "output_type": "execute_result"
    }
   ],
   "source": [
    "dot_data = export_graphviz(dt_clf, out_file=None, feature_names=X_train.columns)\n",
    "graph = pydotplus.graph_from_dot_data(dot_data)\n",
    "Image(graph.create_png())"
   ]
  },
  {
   "cell_type": "code",
   "execution_count": 62,
   "metadata": {
    "ExecuteTime": {
     "end_time": "2017-05-19T09:20:37.438942Z",
     "start_time": "2017-05-19T09:20:37.431910Z"
    },
    "collapsed": false,
    "deletable": true,
    "editable": true
   },
   "outputs": [
    {
     "data": {
      "text/plain": [
       "0.84690991939915727"
      ]
     },
     "execution_count": 62,
     "metadata": {},
     "output_type": "execute_result"
    }
   ],
   "source": [
    "from sklearn.metrics import roc_auc_score\n",
    "\n",
    "dt_clf = DecisionTreeClassifier(criterion='entropy', max_depth=5, random_state=0)\n",
    "# dt_clf = RandomForestClassifier(criterion='entropy', max_depth=3, n_estimators=100, random_state=0)\n",
    "\n",
    "dt_clf.fit(X_train, y_train)\n",
    "\n",
    "y_prob = dt_clf.predict_proba(X_test)[:, 1]\n",
    "\n",
    "dt_clf.score(X_test,y_test)\n",
    "roc_auc_score(y_test, y_prob)"
   ]
  },
  {
   "cell_type": "code",
   "execution_count": 141,
   "metadata": {
    "ExecuteTime": {
     "end_time": "2017-05-19T13:29:56.600113Z",
     "start_time": "2017-05-19T13:29:56.586714Z"
    },
    "collapsed": false,
    "deletable": true,
    "editable": true
   },
   "outputs": [
    {
     "data": {
      "text/html": [
       "<div>\n",
       "<table border=\"1\" class=\"dataframe\">\n",
       "  <thead>\n",
       "    <tr style=\"text-align: right;\">\n",
       "      <th></th>\n",
       "      <th>sex</th>\n",
       "      <th>length</th>\n",
       "      <th>diameter</th>\n",
       "      <th>height</th>\n",
       "      <th>whole weight</th>\n",
       "      <th>shucked weight</th>\n",
       "      <th>viscera weight</th>\n",
       "      <th>shell weight</th>\n",
       "    </tr>\n",
       "  </thead>\n",
       "  <tbody>\n",
       "    <tr>\n",
       "      <th>5</th>\n",
       "      <td>1</td>\n",
       "      <td>0.425</td>\n",
       "      <td>0.3</td>\n",
       "      <td>0.095</td>\n",
       "      <td>0.3515</td>\n",
       "      <td>0.141</td>\n",
       "      <td>0.0775</td>\n",
       "      <td>0.12</td>\n",
       "    </tr>\n",
       "  </tbody>\n",
       "</table>\n",
       "</div>"
      ],
      "text/plain": [
       "   sex  length  diameter  height  whole weight  shucked weight  \\\n",
       "5    1   0.425       0.3   0.095        0.3515           0.141   \n",
       "\n",
       "   viscera weight  shell weight  \n",
       "5          0.0775          0.12  "
      ]
     },
     "metadata": {},
     "output_type": "display_data"
    },
    {
     "name": "stdout",
     "output_type": "stream",
     "text": [
      "[[ 0.91840607  0.08159393]]\n"
     ]
    }
   ],
   "source": [
    "n = 5\n",
    "example = X_train.iloc[n:n+1, :]\n",
    "display(example)\n",
    "print dt_clf.predict_proba(example)"
   ]
  },
  {
   "cell_type": "code",
   "execution_count": 139,
   "metadata": {
    "ExecuteTime": {
     "end_time": "2017-05-19T13:28:55.032871Z",
     "start_time": "2017-05-19T13:28:54.360140Z"
    },
    "collapsed": false,
    "deletable": true,
    "editable": true
   },
   "outputs": [
    {
     "data": {
      "text/plain": [
       "[1 1 1 0 1 0 0 0 0 0 0 0 0 0 0]    1054\n",
       "[1 0 0 0 0 0 0 0 1 1 0 1 0 0 0]     934\n",
       "[1 1 0 0 0 1 1 0 0 0 0 0 0 0 0]     659\n",
       "[1 1 0 0 0 1 0 1 0 0 0 0 0 0 0]     427\n",
       "[1 0 0 0 0 0 0 0 1 0 0 0 1 0 1]     412\n",
       "[1 0 0 0 0 0 0 0 1 1 1 0 0 0 0]     382\n",
       "[1 0 0 0 0 0 0 0 1 0 0 0 1 1 0]     182\n",
       "[1 1 1 1 0 0 0 0 0 0 0 0 0 0 0]     127\n",
       "dtype: int64"
      ]
     },
     "execution_count": 139,
     "metadata": {},
     "output_type": "execute_result"
    }
   ],
   "source": [
    "dec_path_series = pd.Series([str(i) for i in dt_clf.decision_path(X_train).toarray()])\n",
    "dec_path_series.value_counts()"
   ]
  },
  {
   "cell_type": "code",
   "execution_count": 137,
   "metadata": {
    "ExecuteTime": {
     "end_time": "2017-05-19T13:28:29.798045Z",
     "start_time": "2017-05-19T13:28:29.792228Z"
    },
    "collapsed": false,
    "deletable": true,
    "editable": true
   },
   "outputs": [
    {
     "data": {
      "text/plain": [
       "67    [1 0 0 0 0 0 0 0 1 0 0 0 1 1 0]\n",
       "72    [1 0 0 0 0 0 0 0 1 0 0 0 1 1 0]\n",
       "81    [1 0 0 0 0 0 0 0 1 0 0 0 1 1 0]\n",
       "83    [1 0 0 0 0 0 0 0 1 0 0 0 1 1 0]\n",
       "85    [1 0 0 0 0 0 0 0 1 0 0 0 1 1 0]\n",
       "dtype: object"
      ]
     },
     "execution_count": 137,
     "metadata": {},
     "output_type": "execute_result"
    }
   ],
   "source": [
    "dec_path_series[dec_path_series == '[1 0 0 0 0 0 0 0 1 0 0 0 1 1 0]'].head()"
   ]
  },
  {
   "cell_type": "code",
   "execution_count": 142,
   "metadata": {
    "ExecuteTime": {
     "end_time": "2017-05-19T13:30:00.381906Z",
     "start_time": "2017-05-19T13:30:00.378096Z"
    },
    "collapsed": false,
    "deletable": true,
    "editable": true
   },
   "outputs": [
    {
     "name": "stdout",
     "output_type": "stream",
     "text": [
      "[[ 0.03356272 -0.03356272]\n",
      " [ 0.          0.        ]\n",
      " [ 0.          0.        ]\n",
      " [ 0.          0.        ]\n",
      " [ 0.          0.        ]\n",
      " [ 0.          0.        ]\n",
      " [ 0.          0.        ]\n",
      " [ 0.38304781 -0.38304781]]\n"
     ]
    }
   ],
   "source": [
    "print contrib[n]"
   ]
  },
  {
   "cell_type": "code",
   "execution_count": 143,
   "metadata": {
    "ExecuteTime": {
     "end_time": "2017-05-19T13:30:02.719026Z",
     "start_time": "2017-05-19T13:30:02.714600Z"
    },
    "collapsed": false,
    "deletable": true,
    "editable": true
   },
   "outputs": [
    {
     "name": "stdout",
     "output_type": "stream",
     "text": [
      "[[ 0.          0.        ]\n",
      " [ 0.          0.        ]\n",
      " [ 0.          0.        ]\n",
      " [ 0.          0.        ]\n",
      " [ 0.          0.        ]\n",
      " [-0.04748955  0.04748955]\n",
      " [ 0.          0.        ]\n",
      " [-0.43782248  0.43782248]]\n"
     ]
    }
   ],
   "source": [
    "print contrib[67]"
   ]
  },
  {
   "cell_type": "code",
   "execution_count": 115,
   "metadata": {
    "ExecuteTime": {
     "end_time": "2017-05-19T13:23:15.285949Z",
     "start_time": "2017-05-19T13:23:15.272097Z"
    },
    "collapsed": false,
    "deletable": true,
    "editable": true
   },
   "outputs": [
    {
     "data": {
      "text/html": [
       "<div>\n",
       "<table border=\"1\" class=\"dataframe\">\n",
       "  <thead>\n",
       "    <tr style=\"text-align: right;\">\n",
       "      <th></th>\n",
       "      <th>sex</th>\n",
       "      <th>length</th>\n",
       "      <th>diameter</th>\n",
       "      <th>height</th>\n",
       "      <th>whole weight</th>\n",
       "      <th>shucked weight</th>\n",
       "      <th>viscera weight</th>\n",
       "      <th>shell weight</th>\n",
       "    </tr>\n",
       "  </thead>\n",
       "  <tbody>\n",
       "    <tr>\n",
       "      <th>31</th>\n",
       "      <td>0</td>\n",
       "      <td>0.68</td>\n",
       "      <td>0.56</td>\n",
       "      <td>0.165</td>\n",
       "      <td>1.639</td>\n",
       "      <td>0.6055</td>\n",
       "      <td>0.2805</td>\n",
       "      <td>0.46</td>\n",
       "    </tr>\n",
       "  </tbody>\n",
       "</table>\n",
       "</div>"
      ],
      "text/plain": [
       "    sex  length  diameter  height  whole weight  shucked weight  \\\n",
       "31    0    0.68      0.56   0.165         1.639          0.6055   \n",
       "\n",
       "    viscera weight  shell weight  \n",
       "31          0.2805          0.46  "
      ]
     },
     "metadata": {},
     "output_type": "display_data"
    },
    {
     "name": "stdout",
     "output_type": "stream",
     "text": [
      "[[ 0.08495146  0.91504854]]\n"
     ]
    }
   ],
   "source": [
    "n = 31\n",
    "example = X_train.iloc[n:n+1, :]\n",
    "display(example)\n",
    "print dt_clf.predict_proba(example)"
   ]
  },
  {
   "cell_type": "code",
   "execution_count": 116,
   "metadata": {
    "ExecuteTime": {
     "end_time": "2017-05-19T13:23:15.438429Z",
     "start_time": "2017-05-19T13:23:15.434132Z"
    },
    "collapsed": false,
    "deletable": true,
    "editable": true
   },
   "outputs": [
    {
     "name": "stdout",
     "output_type": "stream",
     "text": [
      "[[ 0.          0.        ]\n",
      " [ 0.          0.        ]\n",
      " [ 0.          0.        ]\n",
      " [ 0.          0.        ]\n",
      " [ 0.          0.        ]\n",
      " [ 0.02097839 -0.02097839]\n",
      " [ 0.          0.        ]\n",
      " [-0.43782248  0.43782248]]\n"
     ]
    }
   ],
   "source": [
    "print contrib[n]"
   ]
  },
  {
   "cell_type": "code",
   "execution_count": null,
   "metadata": {
    "collapsed": true,
    "deletable": true,
    "editable": true
   },
   "outputs": [],
   "source": []
  },
  {
   "cell_type": "code",
   "execution_count": 47,
   "metadata": {
    "ExecuteTime": {
     "end_time": "2017-05-18T16:16:24.233044Z",
     "start_time": "2017-05-18T16:16:24.171688Z"
    },
    "collapsed": false,
    "deletable": true,
    "editable": true
   },
   "outputs": [
    {
     "data": {
      "text/html": [
       "<div>\n",
       "<table border=\"1\" class=\"dataframe\">\n",
       "  <thead>\n",
       "    <tr style=\"text-align: right;\">\n",
       "      <th></th>\n",
       "      <th>sex</th>\n",
       "      <th>length</th>\n",
       "      <th>diameter</th>\n",
       "      <th>height</th>\n",
       "      <th>whole weight</th>\n",
       "      <th>shucked weight</th>\n",
       "      <th>viscera weight</th>\n",
       "      <th>shell weight</th>\n",
       "    </tr>\n",
       "  </thead>\n",
       "  <tbody>\n",
       "    <tr>\n",
       "      <th>31</th>\n",
       "      <td>0</td>\n",
       "      <td>0.68</td>\n",
       "      <td>0.56</td>\n",
       "      <td>0.165</td>\n",
       "      <td>1.639</td>\n",
       "      <td>0.6055</td>\n",
       "      <td>0.2805</td>\n",
       "      <td>0.46</td>\n",
       "    </tr>\n",
       "  </tbody>\n",
       "</table>\n",
       "</div>"
      ],
      "text/plain": [
       "    sex  length  diameter  height  whole weight  shucked weight  \\\n",
       "31    0    0.68      0.56   0.165         1.639          0.6055   \n",
       "\n",
       "    viscera weight  shell weight  \n",
       "31          0.2805          0.46  "
      ]
     },
     "metadata": {},
     "output_type": "display_data"
    },
    {
     "name": "stdout",
     "output_type": "stream",
     "text": [
      "[[ 0.  1.]]\n"
     ]
    }
   ],
   "source": [
    "display(example)\n",
    "print rf_clf.predict_proba(example)"
   ]
  },
  {
   "cell_type": "code",
   "execution_count": 50,
   "metadata": {
    "ExecuteTime": {
     "end_time": "2017-05-18T16:16:37.029890Z",
     "start_time": "2017-05-18T16:16:37.025472Z"
    },
    "collapsed": false,
    "deletable": true,
    "editable": true
   },
   "outputs": [
    {
     "data": {
      "text/plain": [
       "array([[-0.00120018,  0.00120018],\n",
       "       [-0.04355222,  0.04355222],\n",
       "       [-0.0883292 ,  0.0883292 ],\n",
       "       [-0.05067806,  0.05067806],\n",
       "       [-0.09092404,  0.09092404],\n",
       "       [-0.02262394,  0.02262394],\n",
       "       [-0.04860123,  0.04860123],\n",
       "       [-0.15448376,  0.15448376]])"
      ]
     },
     "execution_count": 50,
     "metadata": {},
     "output_type": "execute_result"
    }
   ],
   "source": [
    "contrib[n]"
   ]
  },
  {
   "cell_type": "code",
   "execution_count": 74,
   "metadata": {
    "ExecuteTime": {
     "end_time": "2017-05-18T16:23:21.263913Z",
     "start_time": "2017-05-18T16:23:21.259969Z"
    },
    "collapsed": false,
    "deletable": true,
    "editable": true
   },
   "outputs": [],
   "source": [
    "contrib_df = pd.DataFrame(contrib[:, :, 1], columns=X_train.columns)\n",
    "contrib_df['y'] = y_train"
   ]
  },
  {
   "cell_type": "code",
   "execution_count": 75,
   "metadata": {
    "ExecuteTime": {
     "end_time": "2017-05-18T16:23:21.891791Z",
     "start_time": "2017-05-18T16:23:21.876203Z"
    },
    "collapsed": false,
    "deletable": true,
    "editable": true
   },
   "outputs": [
    {
     "data": {
      "text/html": [
       "<div>\n",
       "<table border=\"1\" class=\"dataframe\">\n",
       "  <thead>\n",
       "    <tr style=\"text-align: right;\">\n",
       "      <th></th>\n",
       "      <th>sex</th>\n",
       "      <th>length</th>\n",
       "      <th>diameter</th>\n",
       "      <th>height</th>\n",
       "      <th>whole weight</th>\n",
       "      <th>shucked weight</th>\n",
       "      <th>viscera weight</th>\n",
       "      <th>shell weight</th>\n",
       "      <th>y</th>\n",
       "    </tr>\n",
       "  </thead>\n",
       "  <tbody>\n",
       "    <tr>\n",
       "      <th>0</th>\n",
       "      <td>0.062405</td>\n",
       "      <td>0.056172</td>\n",
       "      <td>0.068996</td>\n",
       "      <td>0.003633</td>\n",
       "      <td>0.029909</td>\n",
       "      <td>0.060042</td>\n",
       "      <td>-0.018391</td>\n",
       "      <td>-0.022373</td>\n",
       "      <td>1</td>\n",
       "    </tr>\n",
       "    <tr>\n",
       "      <th>1</th>\n",
       "      <td>0.125027</td>\n",
       "      <td>-0.028458</td>\n",
       "      <td>-0.097985</td>\n",
       "      <td>-0.099387</td>\n",
       "      <td>-0.084033</td>\n",
       "      <td>-0.007283</td>\n",
       "      <td>-0.100464</td>\n",
       "      <td>-0.147023</td>\n",
       "      <td>0</td>\n",
       "    </tr>\n",
       "    <tr>\n",
       "      <th>2</th>\n",
       "      <td>0.067688</td>\n",
       "      <td>-0.074234</td>\n",
       "      <td>-0.109395</td>\n",
       "      <td>-0.101097</td>\n",
       "      <td>-0.034544</td>\n",
       "      <td>0.038407</td>\n",
       "      <td>-0.034067</td>\n",
       "      <td>-0.072365</td>\n",
       "      <td>0</td>\n",
       "    </tr>\n",
       "    <tr>\n",
       "      <th>3</th>\n",
       "      <td>0.031902</td>\n",
       "      <td>0.093919</td>\n",
       "      <td>0.011623</td>\n",
       "      <td>-0.014105</td>\n",
       "      <td>0.014392</td>\n",
       "      <td>0.010869</td>\n",
       "      <td>0.011575</td>\n",
       "      <td>0.060217</td>\n",
       "      <td>1</td>\n",
       "    </tr>\n",
       "    <tr>\n",
       "      <th>4</th>\n",
       "      <td>-0.050050</td>\n",
       "      <td>-0.016084</td>\n",
       "      <td>-0.067652</td>\n",
       "      <td>-0.099053</td>\n",
       "      <td>-0.047197</td>\n",
       "      <td>-0.003477</td>\n",
       "      <td>-0.090085</td>\n",
       "      <td>-0.126009</td>\n",
       "      <td>0</td>\n",
       "    </tr>\n",
       "  </tbody>\n",
       "</table>\n",
       "</div>"
      ],
      "text/plain": [
       "        sex    length  diameter    height  whole weight  shucked weight  \\\n",
       "0  0.062405  0.056172  0.068996  0.003633      0.029909        0.060042   \n",
       "1  0.125027 -0.028458 -0.097985 -0.099387     -0.084033       -0.007283   \n",
       "2  0.067688 -0.074234 -0.109395 -0.101097     -0.034544        0.038407   \n",
       "3  0.031902  0.093919  0.011623 -0.014105      0.014392        0.010869   \n",
       "4 -0.050050 -0.016084 -0.067652 -0.099053     -0.047197       -0.003477   \n",
       "\n",
       "   viscera weight  shell weight  y  \n",
       "0       -0.018391     -0.022373  1  \n",
       "1       -0.100464     -0.147023  0  \n",
       "2       -0.034067     -0.072365  0  \n",
       "3        0.011575      0.060217  1  \n",
       "4       -0.090085     -0.126009  0  "
      ]
     },
     "execution_count": 75,
     "metadata": {},
     "output_type": "execute_result"
    }
   ],
   "source": [
    "contrib_df.head()"
   ]
  },
  {
   "cell_type": "code",
   "execution_count": 79,
   "metadata": {
    "ExecuteTime": {
     "end_time": "2017-05-18T16:23:41.769615Z",
     "start_time": "2017-05-18T16:23:41.760005Z"
    },
    "collapsed": false,
    "deletable": true,
    "editable": true
   },
   "outputs": [
    {
     "name": "stdout",
     "output_type": "stream",
     "text": [
      "sex               0.015768\n",
      "length            0.032541\n",
      "diameter          0.042730\n",
      "height            0.049943\n",
      "whole weight      0.054766\n",
      "shucked weight    0.045983\n",
      "viscera weight    0.059549\n",
      "shell weight      0.094999\n",
      "y                 1.000000\n",
      "dtype: float64\n",
      "sex              -0.015340\n",
      "length           -0.031948\n",
      "diameter         -0.042304\n",
      "height           -0.049744\n",
      "whole weight     -0.054262\n",
      "shucked weight   -0.047013\n",
      "viscera weight   -0.060295\n",
      "shell weight     -0.095619\n",
      "y                 0.000000\n",
      "dtype: float64\n"
     ]
    }
   ],
   "source": [
    "print contrib_df.query('y == 1').mean()\n",
    "print contrib_df.query('y == 0').mean()"
   ]
  },
  {
   "cell_type": "code",
   "execution_count": 81,
   "metadata": {
    "ExecuteTime": {
     "end_time": "2017-05-18T16:24:23.759068Z",
     "start_time": "2017-05-18T16:24:23.749549Z"
    },
    "collapsed": false,
    "deletable": true,
    "editable": true
   },
   "outputs": [
    {
     "name": "stdout",
     "output_type": "stream",
     "text": [
      "sex               0.048451\n",
      "length            0.026958\n",
      "diameter          0.033143\n",
      "height            0.065035\n",
      "whole weight      0.036693\n",
      "shucked weight    0.069685\n",
      "viscera weight    0.048849\n",
      "shell weight      0.091352\n",
      "y                 0.000000\n",
      "dtype: float64\n",
      "sex               0.059077\n",
      "length            0.030401\n",
      "diameter          0.041849\n",
      "height            0.061164\n",
      "whole weight      0.032970\n",
      "shucked weight    0.067577\n",
      "viscera weight    0.050881\n",
      "shell weight      0.082839\n",
      "y                 0.000000\n",
      "dtype: float64\n"
     ]
    }
   ],
   "source": [
    "print contrib_df.query('y == 1').std()\n",
    "print contrib_df.query('y == 0').std()"
   ]
  },
  {
   "cell_type": "code",
   "execution_count": 85,
   "metadata": {
    "ExecuteTime": {
     "end_time": "2017-05-18T16:25:31.099353Z",
     "start_time": "2017-05-18T16:25:31.080646Z"
    },
    "collapsed": false,
    "deletable": true,
    "editable": true
   },
   "outputs": [
    {
     "data": {
      "text/html": [
       "<div>\n",
       "<table border=\"1\" class=\"dataframe\">\n",
       "  <thead>\n",
       "    <tr style=\"text-align: right;\">\n",
       "      <th></th>\n",
       "      <th>sex</th>\n",
       "      <th>length</th>\n",
       "      <th>diameter</th>\n",
       "      <th>height</th>\n",
       "      <th>whole weight</th>\n",
       "      <th>shucked weight</th>\n",
       "      <th>viscera weight</th>\n",
       "      <th>shell weight</th>\n",
       "      <th>y</th>\n",
       "    </tr>\n",
       "  </thead>\n",
       "  <tbody>\n",
       "    <tr>\n",
       "      <th>804</th>\n",
       "      <td>0.003470</td>\n",
       "      <td>-0.022226</td>\n",
       "      <td>0.021332</td>\n",
       "      <td>0.008521</td>\n",
       "      <td>0.073139</td>\n",
       "      <td>0.122261</td>\n",
       "      <td>0.232829</td>\n",
       "      <td>-0.228933</td>\n",
       "      <td>1</td>\n",
       "    </tr>\n",
       "    <tr>\n",
       "      <th>2413</th>\n",
       "      <td>0.056046</td>\n",
       "      <td>0.012450</td>\n",
       "      <td>0.077023</td>\n",
       "      <td>0.063831</td>\n",
       "      <td>0.033867</td>\n",
       "      <td>0.072568</td>\n",
       "      <td>0.181580</td>\n",
       "      <td>-0.206973</td>\n",
       "      <td>1</td>\n",
       "    </tr>\n",
       "    <tr>\n",
       "      <th>3900</th>\n",
       "      <td>0.032390</td>\n",
       "      <td>0.060709</td>\n",
       "      <td>0.030437</td>\n",
       "      <td>0.246650</td>\n",
       "      <td>-0.000390</td>\n",
       "      <td>0.069322</td>\n",
       "      <td>-0.062269</td>\n",
       "      <td>-0.196456</td>\n",
       "      <td>1</td>\n",
       "    </tr>\n",
       "    <tr>\n",
       "      <th>2470</th>\n",
       "      <td>0.015706</td>\n",
       "      <td>0.026256</td>\n",
       "      <td>0.031891</td>\n",
       "      <td>0.115349</td>\n",
       "      <td>0.111466</td>\n",
       "      <td>0.041309</td>\n",
       "      <td>0.173798</td>\n",
       "      <td>-0.195384</td>\n",
       "      <td>1</td>\n",
       "    </tr>\n",
       "    <tr>\n",
       "      <th>2282</th>\n",
       "      <td>0.073304</td>\n",
       "      <td>0.074007</td>\n",
       "      <td>0.090514</td>\n",
       "      <td>-0.027947</td>\n",
       "      <td>0.069723</td>\n",
       "      <td>-0.033603</td>\n",
       "      <td>0.151887</td>\n",
       "      <td>-0.177492</td>\n",
       "      <td>1</td>\n",
       "    </tr>\n",
       "    <tr>\n",
       "      <th>751</th>\n",
       "      <td>0.023995</td>\n",
       "      <td>-0.002825</td>\n",
       "      <td>-0.000892</td>\n",
       "      <td>-0.070299</td>\n",
       "      <td>0.013411</td>\n",
       "      <td>0.174834</td>\n",
       "      <td>0.259036</td>\n",
       "      <td>-0.176869</td>\n",
       "      <td>1</td>\n",
       "    </tr>\n",
       "    <tr>\n",
       "      <th>3375</th>\n",
       "      <td>0.109080</td>\n",
       "      <td>0.034602</td>\n",
       "      <td>-0.007429</td>\n",
       "      <td>0.136257</td>\n",
       "      <td>0.026429</td>\n",
       "      <td>0.089142</td>\n",
       "      <td>0.156865</td>\n",
       "      <td>-0.174554</td>\n",
       "      <td>1</td>\n",
       "    </tr>\n",
       "    <tr>\n",
       "      <th>555</th>\n",
       "      <td>-0.031176</td>\n",
       "      <td>0.021559</td>\n",
       "      <td>0.037284</td>\n",
       "      <td>0.167241</td>\n",
       "      <td>-0.017636</td>\n",
       "      <td>0.068451</td>\n",
       "      <td>0.227290</td>\n",
       "      <td>-0.172620</td>\n",
       "      <td>1</td>\n",
       "    </tr>\n",
       "    <tr>\n",
       "      <th>729</th>\n",
       "      <td>0.080055</td>\n",
       "      <td>0.040591</td>\n",
       "      <td>-0.000936</td>\n",
       "      <td>-0.074718</td>\n",
       "      <td>0.108067</td>\n",
       "      <td>0.159433</td>\n",
       "      <td>0.185532</td>\n",
       "      <td>-0.167632</td>\n",
       "      <td>1</td>\n",
       "    </tr>\n",
       "    <tr>\n",
       "      <th>3128</th>\n",
       "      <td>0.013863</td>\n",
       "      <td>0.050620</td>\n",
       "      <td>0.149166</td>\n",
       "      <td>0.191953</td>\n",
       "      <td>0.052467</td>\n",
       "      <td>-0.015283</td>\n",
       "      <td>0.093161</td>\n",
       "      <td>-0.165555</td>\n",
       "      <td>1</td>\n",
       "    </tr>\n",
       "  </tbody>\n",
       "</table>\n",
       "</div>"
      ],
      "text/plain": [
       "           sex    length  diameter    height  whole weight  shucked weight  \\\n",
       "804   0.003470 -0.022226  0.021332  0.008521      0.073139        0.122261   \n",
       "2413  0.056046  0.012450  0.077023  0.063831      0.033867        0.072568   \n",
       "3900  0.032390  0.060709  0.030437  0.246650     -0.000390        0.069322   \n",
       "2470  0.015706  0.026256  0.031891  0.115349      0.111466        0.041309   \n",
       "2282  0.073304  0.074007  0.090514 -0.027947      0.069723       -0.033603   \n",
       "751   0.023995 -0.002825 -0.000892 -0.070299      0.013411        0.174834   \n",
       "3375  0.109080  0.034602 -0.007429  0.136257      0.026429        0.089142   \n",
       "555  -0.031176  0.021559  0.037284  0.167241     -0.017636        0.068451   \n",
       "729   0.080055  0.040591 -0.000936 -0.074718      0.108067        0.159433   \n",
       "3128  0.013863  0.050620  0.149166  0.191953      0.052467       -0.015283   \n",
       "\n",
       "      viscera weight  shell weight  y  \n",
       "804         0.232829     -0.228933  1  \n",
       "2413        0.181580     -0.206973  1  \n",
       "3900       -0.062269     -0.196456  1  \n",
       "2470        0.173798     -0.195384  1  \n",
       "2282        0.151887     -0.177492  1  \n",
       "751         0.259036     -0.176869  1  \n",
       "3375        0.156865     -0.174554  1  \n",
       "555         0.227290     -0.172620  1  \n",
       "729         0.185532     -0.167632  1  \n",
       "3128        0.093161     -0.165555  1  "
      ]
     },
     "execution_count": 85,
     "metadata": {},
     "output_type": "execute_result"
    }
   ],
   "source": [
    "contrib_df.query('y == 1').sort_values('shell weight').head(10)"
   ]
  },
  {
   "cell_type": "code",
   "execution_count": 86,
   "metadata": {
    "ExecuteTime": {
     "end_time": "2017-05-18T16:25:31.367743Z",
     "start_time": "2017-05-18T16:25:31.348085Z"
    },
    "collapsed": false,
    "deletable": true,
    "editable": true
   },
   "outputs": [
    {
     "data": {
      "text/html": [
       "<div>\n",
       "<table border=\"1\" class=\"dataframe\">\n",
       "  <thead>\n",
       "    <tr style=\"text-align: right;\">\n",
       "      <th></th>\n",
       "      <th>sex</th>\n",
       "      <th>length</th>\n",
       "      <th>diameter</th>\n",
       "      <th>height</th>\n",
       "      <th>whole weight</th>\n",
       "      <th>shucked weight</th>\n",
       "      <th>viscera weight</th>\n",
       "      <th>shell weight</th>\n",
       "      <th>y</th>\n",
       "    </tr>\n",
       "  </thead>\n",
       "  <tbody>\n",
       "    <tr>\n",
       "      <th>2106</th>\n",
       "      <td>0.011305</td>\n",
       "      <td>0.004084</td>\n",
       "      <td>0.013126</td>\n",
       "      <td>0.033645</td>\n",
       "      <td>0.042650</td>\n",
       "      <td>0.038593</td>\n",
       "      <td>0.061736</td>\n",
       "      <td>0.275253</td>\n",
       "      <td>1</td>\n",
       "    </tr>\n",
       "    <tr>\n",
       "      <th>3576</th>\n",
       "      <td>-0.011454</td>\n",
       "      <td>0.006751</td>\n",
       "      <td>0.035524</td>\n",
       "      <td>0.034709</td>\n",
       "      <td>0.043086</td>\n",
       "      <td>0.016885</td>\n",
       "      <td>0.049472</td>\n",
       "      <td>0.275419</td>\n",
       "      <td>1</td>\n",
       "    </tr>\n",
       "    <tr>\n",
       "      <th>2155</th>\n",
       "      <td>0.013620</td>\n",
       "      <td>-0.000356</td>\n",
       "      <td>0.007842</td>\n",
       "      <td>0.087954</td>\n",
       "      <td>0.061769</td>\n",
       "      <td>-0.014594</td>\n",
       "      <td>0.037524</td>\n",
       "      <td>0.276632</td>\n",
       "      <td>1</td>\n",
       "    </tr>\n",
       "    <tr>\n",
       "      <th>575</th>\n",
       "      <td>-0.011852</td>\n",
       "      <td>0.043806</td>\n",
       "      <td>0.049489</td>\n",
       "      <td>-0.029782</td>\n",
       "      <td>0.042467</td>\n",
       "      <td>-0.045635</td>\n",
       "      <td>0.086415</td>\n",
       "      <td>0.285484</td>\n",
       "      <td>1</td>\n",
       "    </tr>\n",
       "    <tr>\n",
       "      <th>428</th>\n",
       "      <td>0.056860</td>\n",
       "      <td>0.018592</td>\n",
       "      <td>0.039582</td>\n",
       "      <td>-0.094797</td>\n",
       "      <td>0.059492</td>\n",
       "      <td>0.021029</td>\n",
       "      <td>-0.056674</td>\n",
       "      <td>0.286308</td>\n",
       "      <td>1</td>\n",
       "    </tr>\n",
       "    <tr>\n",
       "      <th>574</th>\n",
       "      <td>0.020165</td>\n",
       "      <td>0.016964</td>\n",
       "      <td>0.026681</td>\n",
       "      <td>-0.017790</td>\n",
       "      <td>0.033701</td>\n",
       "      <td>0.041474</td>\n",
       "      <td>0.041463</td>\n",
       "      <td>0.287735</td>\n",
       "      <td>1</td>\n",
       "    </tr>\n",
       "    <tr>\n",
       "      <th>722</th>\n",
       "      <td>0.028192</td>\n",
       "      <td>0.012861</td>\n",
       "      <td>0.017472</td>\n",
       "      <td>-0.026076</td>\n",
       "      <td>0.081167</td>\n",
       "      <td>0.017575</td>\n",
       "      <td>0.032226</td>\n",
       "      <td>0.306975</td>\n",
       "      <td>1</td>\n",
       "    </tr>\n",
       "    <tr>\n",
       "      <th>873</th>\n",
       "      <td>-0.003571</td>\n",
       "      <td>0.017121</td>\n",
       "      <td>0.035627</td>\n",
       "      <td>0.003931</td>\n",
       "      <td>0.028369</td>\n",
       "      <td>0.004920</td>\n",
       "      <td>0.064045</td>\n",
       "      <td>0.309951</td>\n",
       "      <td>1</td>\n",
       "    </tr>\n",
       "    <tr>\n",
       "      <th>86</th>\n",
       "      <td>0.008034</td>\n",
       "      <td>0.026803</td>\n",
       "      <td>0.010431</td>\n",
       "      <td>-0.006077</td>\n",
       "      <td>0.041011</td>\n",
       "      <td>-0.019817</td>\n",
       "      <td>0.065614</td>\n",
       "      <td>0.314395</td>\n",
       "      <td>1</td>\n",
       "    </tr>\n",
       "    <tr>\n",
       "      <th>2356</th>\n",
       "      <td>0.018316</td>\n",
       "      <td>0.003624</td>\n",
       "      <td>0.031649</td>\n",
       "      <td>-0.018054</td>\n",
       "      <td>0.079122</td>\n",
       "      <td>-0.009853</td>\n",
       "      <td>0.054069</td>\n",
       "      <td>0.321519</td>\n",
       "      <td>1</td>\n",
       "    </tr>\n",
       "  </tbody>\n",
       "</table>\n",
       "</div>"
      ],
      "text/plain": [
       "           sex    length  diameter    height  whole weight  shucked weight  \\\n",
       "2106  0.011305  0.004084  0.013126  0.033645      0.042650        0.038593   \n",
       "3576 -0.011454  0.006751  0.035524  0.034709      0.043086        0.016885   \n",
       "2155  0.013620 -0.000356  0.007842  0.087954      0.061769       -0.014594   \n",
       "575  -0.011852  0.043806  0.049489 -0.029782      0.042467       -0.045635   \n",
       "428   0.056860  0.018592  0.039582 -0.094797      0.059492        0.021029   \n",
       "574   0.020165  0.016964  0.026681 -0.017790      0.033701        0.041474   \n",
       "722   0.028192  0.012861  0.017472 -0.026076      0.081167        0.017575   \n",
       "873  -0.003571  0.017121  0.035627  0.003931      0.028369        0.004920   \n",
       "86    0.008034  0.026803  0.010431 -0.006077      0.041011       -0.019817   \n",
       "2356  0.018316  0.003624  0.031649 -0.018054      0.079122       -0.009853   \n",
       "\n",
       "      viscera weight  shell weight  y  \n",
       "2106        0.061736      0.275253  1  \n",
       "3576        0.049472      0.275419  1  \n",
       "2155        0.037524      0.276632  1  \n",
       "575         0.086415      0.285484  1  \n",
       "428        -0.056674      0.286308  1  \n",
       "574         0.041463      0.287735  1  \n",
       "722         0.032226      0.306975  1  \n",
       "873         0.064045      0.309951  1  \n",
       "86          0.065614      0.314395  1  \n",
       "2356        0.054069      0.321519  1  "
      ]
     },
     "execution_count": 86,
     "metadata": {},
     "output_type": "execute_result"
    }
   ],
   "source": [
    "contrib_df.query('y == 1').sort_values('shell weight').tail(10)"
   ]
  },
  {
   "cell_type": "markdown",
   "metadata": {
    "collapsed": true,
    "deletable": true,
    "editable": true
   },
   "source": [
    "# Plot feature contribution"
   ]
  },
  {
   "cell_type": "code",
   "execution_count": 88,
   "metadata": {
    "collapsed": false
   },
   "outputs": [
    {
     "data": {
      "text/plain": [
       "0.87037461073456668"
      ]
     },
     "execution_count": 88,
     "metadata": {},
     "output_type": "execute_result"
    }
   ],
   "source": [
    "from sklearn.metrics import roc_auc_score\n",
    "\n",
    "dt_clf = RandomForestClassifier(criterion='entropy', n_estimators=100, max_depth=10, random_state=0)\n",
    "dt_clf.fit(X_train, y_train)\n",
    "\n",
    "y_prob = dt_clf.predict_proba(X_test)[:, 1]\n",
    "\n",
    "dt_clf.score(X_test,y_test)\n",
    "roc_auc_score(y_test, y_prob)"
   ]
  },
  {
   "cell_type": "code",
   "execution_count": 81,
   "metadata": {
    "collapsed": false
   },
   "outputs": [
    {
     "name": "stdout",
     "output_type": "stream",
     "text": [
      "CPU times: user 115 ms, sys: 3.88 ms, total: 118 ms\n",
      "Wall time: 116 ms\n"
     ]
    }
   ],
   "source": [
    "%%time\n",
    "pred, bias, contrib = ti.predict(dt_clf, X_test)"
   ]
  },
  {
   "cell_type": "code",
   "execution_count": 82,
   "metadata": {
    "collapsed": false
   },
   "outputs": [
    {
     "data": {
      "text/html": [
       "<div>\n",
       "<table border=\"1\" class=\"dataframe\">\n",
       "  <thead>\n",
       "    <tr style=\"text-align: right;\">\n",
       "      <th></th>\n",
       "      <th>sex</th>\n",
       "      <th>length</th>\n",
       "      <th>diameter</th>\n",
       "      <th>height</th>\n",
       "      <th>whole weight</th>\n",
       "      <th>shucked weight</th>\n",
       "      <th>viscera weight</th>\n",
       "      <th>shell weight</th>\n",
       "    </tr>\n",
       "  </thead>\n",
       "  <tbody>\n",
       "    <tr>\n",
       "      <th>4085</th>\n",
       "      <td>2</td>\n",
       "      <td>0.585</td>\n",
       "      <td>0.51</td>\n",
       "      <td>0.16</td>\n",
       "      <td>1.218</td>\n",
       "      <td>0.639</td>\n",
       "      <td>0.241</td>\n",
       "      <td>0.3</td>\n",
       "    </tr>\n",
       "  </tbody>\n",
       "</table>\n",
       "</div>"
      ],
      "text/plain": [
       "      sex  length  diameter  height  whole weight  shucked weight  \\\n",
       "4085    2   0.585      0.51    0.16         1.218           0.639   \n",
       "\n",
       "      viscera weight  shell weight  \n",
       "4085           0.241           0.3  "
      ]
     },
     "metadata": {},
     "output_type": "display_data"
    },
    {
     "name": "stdout",
     "output_type": "stream",
     "text": [
      "[[ 0.32156651  0.67843349]]\n"
     ]
    },
    {
     "data": {
      "text/plain": [
       "array([[ 0.02492292, -0.02492292],\n",
       "       [ 0.02731242, -0.02731242],\n",
       "       [ 0.00309034, -0.00309034],\n",
       "       [ 0.13962136, -0.13962136],\n",
       "       [ 0.01386955, -0.01386955],\n",
       "       [-0.03458272,  0.03458272],\n",
       "       [ 0.05917001, -0.05917001],\n",
       "       [-0.07783029,  0.07783029]])"
      ]
     },
     "metadata": {},
     "output_type": "display_data"
    }
   ],
   "source": [
    "n = 31\n",
    "example = X_train.iloc[n:n+1, :]\n",
    "display(example)\n",
    "print dt_clf.predict_proba(example)\n",
    "c = contrib[n]\n",
    "display(c)"
   ]
  },
  {
   "cell_type": "code",
   "execution_count": 77,
   "metadata": {
    "collapsed": false
   },
   "outputs": [
    {
     "data": {
      "text/html": [
       "<div>\n",
       "<table border=\"1\" class=\"dataframe\">\n",
       "  <thead>\n",
       "    <tr style=\"text-align: right;\">\n",
       "      <th></th>\n",
       "      <th>sex</th>\n",
       "      <th>length</th>\n",
       "      <th>diameter</th>\n",
       "      <th>height</th>\n",
       "      <th>whole weight</th>\n",
       "      <th>shucked weight</th>\n",
       "      <th>viscera weight</th>\n",
       "      <th>shell weight</th>\n",
       "    </tr>\n",
       "  </thead>\n",
       "  <tbody>\n",
       "    <tr>\n",
       "      <th>count</th>\n",
       "      <td>3.341000e+03</td>\n",
       "      <td>3.341000e+03</td>\n",
       "      <td>3.341000e+03</td>\n",
       "      <td>3.341000e+03</td>\n",
       "      <td>3.341000e+03</td>\n",
       "      <td>3.341000e+03</td>\n",
       "      <td>3341.0</td>\n",
       "      <td>3.341000e+03</td>\n",
       "    </tr>\n",
       "    <tr>\n",
       "      <th>mean</th>\n",
       "      <td>-5.910833e-18</td>\n",
       "      <td>3.588868e-18</td>\n",
       "      <td>1.478747e-18</td>\n",
       "      <td>2.986570e-18</td>\n",
       "      <td>2.791342e-18</td>\n",
       "      <td>-4.137168e-18</td>\n",
       "      <td>0.0</td>\n",
       "      <td>-5.283612e-18</td>\n",
       "    </tr>\n",
       "    <tr>\n",
       "      <th>std</th>\n",
       "      <td>7.221510e-02</td>\n",
       "      <td>2.253859e-02</td>\n",
       "      <td>3.496432e-02</td>\n",
       "      <td>2.104353e-02</td>\n",
       "      <td>8.291923e-03</td>\n",
       "      <td>1.164322e-01</td>\n",
       "      <td>0.0</td>\n",
       "      <td>3.047323e-01</td>\n",
       "    </tr>\n",
       "    <tr>\n",
       "      <th>min</th>\n",
       "      <td>-7.972162e-02</td>\n",
       "      <td>-6.458333e-01</td>\n",
       "      <td>-2.032086e-01</td>\n",
       "      <td>-4.087172e-02</td>\n",
       "      <td>-2.363014e-01</td>\n",
       "      <td>-6.927174e-01</td>\n",
       "      <td>0.0</td>\n",
       "      <td>-8.480555e-01</td>\n",
       "    </tr>\n",
       "    <tr>\n",
       "      <th>25%</th>\n",
       "      <td>0.000000e+00</td>\n",
       "      <td>0.000000e+00</td>\n",
       "      <td>0.000000e+00</td>\n",
       "      <td>0.000000e+00</td>\n",
       "      <td>0.000000e+00</td>\n",
       "      <td>-7.360037e-02</td>\n",
       "      <td>0.0</td>\n",
       "      <td>-3.714200e-01</td>\n",
       "    </tr>\n",
       "    <tr>\n",
       "      <th>50%</th>\n",
       "      <td>0.000000e+00</td>\n",
       "      <td>0.000000e+00</td>\n",
       "      <td>0.000000e+00</td>\n",
       "      <td>0.000000e+00</td>\n",
       "      <td>0.000000e+00</td>\n",
       "      <td>0.000000e+00</td>\n",
       "      <td>0.0</td>\n",
       "      <td>4.773355e-02</td>\n",
       "    </tr>\n",
       "    <tr>\n",
       "      <th>75%</th>\n",
       "      <td>0.000000e+00</td>\n",
       "      <td>0.000000e+00</td>\n",
       "      <td>0.000000e+00</td>\n",
       "      <td>0.000000e+00</td>\n",
       "      <td>0.000000e+00</td>\n",
       "      <td>4.310089e-02</td>\n",
       "      <td>0.0</td>\n",
       "      <td>2.914245e-01</td>\n",
       "    </tr>\n",
       "    <tr>\n",
       "      <th>max</th>\n",
       "      <td>2.899018e-01</td>\n",
       "      <td>1.094633e-02</td>\n",
       "      <td>7.967914e-01</td>\n",
       "      <td>5.005213e-02</td>\n",
       "      <td>6.656377e-03</td>\n",
       "      <td>3.608132e-01</td>\n",
       "      <td>0.0</td>\n",
       "      <td>5.255639e-01</td>\n",
       "    </tr>\n",
       "  </tbody>\n",
       "</table>\n",
       "</div>"
      ],
      "text/plain": [
       "                sex        length      diameter        height  whole weight  \\\n",
       "count  3.341000e+03  3.341000e+03  3.341000e+03  3.341000e+03  3.341000e+03   \n",
       "mean  -5.910833e-18  3.588868e-18  1.478747e-18  2.986570e-18  2.791342e-18   \n",
       "std    7.221510e-02  2.253859e-02  3.496432e-02  2.104353e-02  8.291923e-03   \n",
       "min   -7.972162e-02 -6.458333e-01 -2.032086e-01 -4.087172e-02 -2.363014e-01   \n",
       "25%    0.000000e+00  0.000000e+00  0.000000e+00  0.000000e+00  0.000000e+00   \n",
       "50%    0.000000e+00  0.000000e+00  0.000000e+00  0.000000e+00  0.000000e+00   \n",
       "75%    0.000000e+00  0.000000e+00  0.000000e+00  0.000000e+00  0.000000e+00   \n",
       "max    2.899018e-01  1.094633e-02  7.967914e-01  5.005213e-02  6.656377e-03   \n",
       "\n",
       "       shucked weight  viscera weight  shell weight  \n",
       "count    3.341000e+03          3341.0  3.341000e+03  \n",
       "mean    -4.137168e-18             0.0 -5.283612e-18  \n",
       "std      1.164322e-01             0.0  3.047323e-01  \n",
       "min     -6.927174e-01             0.0 -8.480555e-01  \n",
       "25%     -7.360037e-02             0.0 -3.714200e-01  \n",
       "50%      0.000000e+00             0.0  4.773355e-02  \n",
       "75%      4.310089e-02             0.0  2.914245e-01  \n",
       "max      3.608132e-01             0.0  5.255639e-01  "
      ]
     },
     "execution_count": 77,
     "metadata": {},
     "output_type": "execute_result"
    }
   ],
   "source": [
    "contrib_df = pd.DataFrame(contrib[:, :, 1], columns=X_train.columns)\n",
    "contrib_df.describe()"
   ]
  },
  {
   "cell_type": "code",
   "execution_count": 92,
   "metadata": {
    "collapsed": false
   },
   "outputs": [
    {
     "data": {
      "text/html": [
       "<div>\n",
       "<table border=\"1\" class=\"dataframe\">\n",
       "  <thead>\n",
       "    <tr style=\"text-align: right;\">\n",
       "      <th></th>\n",
       "      <th>sex</th>\n",
       "      <th>length</th>\n",
       "      <th>diameter</th>\n",
       "      <th>height</th>\n",
       "      <th>whole weight</th>\n",
       "      <th>shucked weight</th>\n",
       "      <th>viscera weight</th>\n",
       "      <th>shell weight</th>\n",
       "    </tr>\n",
       "  </thead>\n",
       "  <tbody>\n",
       "    <tr>\n",
       "      <th>0</th>\n",
       "      <td>0.04642</td>\n",
       "      <td>0.080572</td>\n",
       "      <td>0.108157</td>\n",
       "      <td>0.12621</td>\n",
       "      <td>0.133425</td>\n",
       "      <td>0.115683</td>\n",
       "      <td>0.141887</td>\n",
       "      <td>0.247644</td>\n",
       "    </tr>\n",
       "  </tbody>\n",
       "</table>\n",
       "</div>"
      ],
      "text/plain": [
       "       sex    length  diameter   height  whole weight  shucked weight  \\\n",
       "0  0.04642  0.080572  0.108157  0.12621      0.133425        0.115683   \n",
       "\n",
       "   viscera weight  shell weight  \n",
       "0        0.141887      0.247644  "
      ]
     },
     "execution_count": 92,
     "metadata": {},
     "output_type": "execute_result"
    }
   ],
   "source": [
    "importances = dt_clf.feature_importances_\n",
    "importances\n",
    "df_importances = pd.DataFrame(importances)\n",
    "df_importances.columns = X_train.columns\n",
    "df_importances"
   ]
  },
  {
   "cell_type": "code",
   "execution_count": 104,
   "metadata": {
    "collapsed": false
   },
   "outputs": [
    {
     "name": "stdout",
     "output_type": "stream",
     "text": [
      "[ 0.04641983  0.08057244  0.10815709  0.12621036  0.13342541  0.11568338\n",
      "  0.14188713  0.24764435]\n",
      "Index([u'sex', u'length', u'diameter', u'height', u'whole weight',\n",
      "       u'shucked weight', u'viscera weight', u'shell weight'],\n",
      "      dtype='object')\n"
     ]
    },
    {
     "data": {
      "text/plain": [
       "<matplotlib.axes._subplots.AxesSubplot at 0x115fb5a90>"
      ]
     },
     "execution_count": 104,
     "metadata": {},
     "output_type": "execute_result"
    },
    {
     "data": {
      "image/png": "[encoded data removed]",
      "text/plain": [
       "<matplotlib.figure.Figure at 0x115fb5210>"
      ]
     },
     "metadata": {},
     "output_type": "display_data"
    }
   ],
   "source": [
    "import seaborn as sns\n",
    "\n",
    "df_importances = pd.DataFrame({'features': X_train.columns,\n",
    "                               'importances': importances\n",
    "             })\n",
    "df_importances.set_index('features').sort_values('importances').plot(kind='barh')"
   ]
  },
  {
   "cell_type": "code",
   "execution_count": null,
   "metadata": {
    "collapsed": true
   },
   "outputs": [],
   "source": [
    "# get contrib\n",
    "pred, bias, contrib = ti.predict(dt_clf, X_test)"
   ]
  },
  {
   "cell_type": "code",
   "execution_count": 148,
   "metadata": {
    "collapsed": false
   },
   "outputs": [
    {
     "data": {
      "text/plain": [
       "array([[ 0.96046527,  0.03953473],\n",
       "       [ 0.29407749,  0.70592251],\n",
       "       [ 0.25612959,  0.74387041],\n",
       "       ..., \n",
       "       [ 0.12620594,  0.87379406],\n",
       "       [ 0.24344309,  0.75655691],\n",
       "       [ 0.89580319,  0.10419681]])"
      ]
     },
     "execution_count": 148,
     "metadata": {},
     "output_type": "execute_result"
    }
   ],
   "source": [
    "pred"
   ]
  },
  {
   "cell_type": "code",
   "execution_count": 125,
   "metadata": {
    "collapsed": false
   },
   "outputs": [
    {
     "data": {
      "text/plain": [
       "836"
      ]
     },
     "execution_count": 125,
     "metadata": {},
     "output_type": "execute_result"
    }
   ],
   "source": [
    "len(y_test)"
   ]
  },
  {
   "cell_type": "code",
   "execution_count": 139,
   "metadata": {
    "collapsed": false
   },
   "outputs": [
    {
     "data": {
      "text/plain": [
       "sex               0.0000\n",
       "length            0.5400\n",
       "diameter          0.4250\n",
       "height            0.1600\n",
       "whole weight      0.9455\n",
       "shucked weight    0.3675\n",
       "viscera weight    0.2005\n",
       "shell weight      0.2950\n",
       "Name: 1875, dtype: float64"
      ]
     },
     "execution_count": 139,
     "metadata": {},
     "output_type": "execute_result"
    }
   ],
   "source": [
    "X_test.iloc[n]"
   ]
  },
  {
   "cell_type": "code",
   "execution_count": 140,
   "metadata": {
    "collapsed": false
   },
   "outputs": [
    {
     "data": {
      "text/plain": [
       "sex              -0.015260\n",
       "length            0.031753\n",
       "diameter          0.040553\n",
       "height            0.019627\n",
       "whole weight      0.024238\n",
       "shucked weight    0.039370\n",
       "viscera weight    0.021500\n",
       "shell weight      0.143060\n",
       "label             0.000000\n",
       "Name: 9, dtype: float64"
      ]
     },
     "execution_count": 140,
     "metadata": {},
     "output_type": "execute_result"
    }
   ],
   "source": [
    "row"
   ]
  },
  {
   "cell_type": "code",
   "execution_count": 142,
   "metadata": {
    "collapsed": false
   },
   "outputs": [
    {
     "name": "stdout",
     "output_type": "stream",
     "text": [
      "0 sex 0.0\n",
      "1 length 0.54\n",
      "2 diameter 0.425\n",
      "3 height 0.16\n",
      "4 whole weight 0.9455\n",
      "5 shucked weight 0.3675\n",
      "6 viscera weight 0.2005\n",
      "7 shell weight 0.295\n"
     ]
    }
   ],
   "source": [
    "for y_coord,(f,v) in enumerate(X_test.iloc[n].iteritems()):\n",
    "    plt.text(0,y_coord,f)"
   ]
  },
  {
   "cell_type": "code",
   "execution_count": 173,
   "metadata": {
    "collapsed": false
   },
   "outputs": [
    {
     "data": {
      "text/plain": [
       "0.95015150827980788"
      ]
     },
     "execution_count": 173,
     "metadata": {},
     "output_type": "execute_result"
    }
   ],
   "source": [
    "y_prob[3]"
   ]
  },
  {
   "cell_type": "code",
   "execution_count": 192,
   "metadata": {
    "collapsed": false
   },
   "outputs": [
    {
     "data": {
      "text/plain": [
       "sex               0.138427\n",
       "length           -0.011460\n",
       "diameter         -0.007013\n",
       "height           -0.116987\n",
       "whole weight      0.010559\n",
       "shucked weight    0.095376\n",
       "viscera weight   -0.082442\n",
       "shell weight      0.180653\n",
       "label             1.000000\n",
       "pred_prob         0.705923\n",
       "Name: 1, dtype: float64"
      ]
     },
     "execution_count": 192,
     "metadata": {},
     "output_type": "execute_result"
    }
   ],
   "source": [
    "row"
   ]
  },
  {
   "cell_type": "code",
   "execution_count": 197,
   "metadata": {
    "collapsed": false
   },
   "outputs": [
    {
     "data": {
      "text/plain": [
       "<matplotlib.axes._subplots.AxesSubplot at 0x119f0ead0>"
      ]
     },
     "execution_count": 197,
     "metadata": {},
     "output_type": "execute_result"
    },
    {
     "data": {
      "image/png": "[encoded data removed]",
      "text/plain": [
       "<matplotlib.figure.Figure at 0x11b0714d0>"
      ]
     },
     "metadata": {},
     "output_type": "display_data"
    }
   ],
   "source": [
    "row.drop(['label','pred_prob']).plot(kind='barh')\n"
   ]
  },
  {
   "cell_type": "code",
   "execution_count": 198,
   "metadata": {
    "collapsed": false
   },
   "outputs": [
    {
     "data": {
      "text/plain": [
       "sex               0.138427\n",
       "length           -0.011460\n",
       "diameter         -0.007013\n",
       "height           -0.116987\n",
       "whole weight      0.010559\n",
       "shucked weight    0.095376\n",
       "viscera weight   -0.082442\n",
       "shell weight      0.180653\n",
       "Name: 1, dtype: float64"
      ]
     },
     "execution_count": 198,
     "metadata": {},
     "output_type": "execute_result"
    }
   ],
   "source": [
    "row.drop(['label','pred_prob'])"
   ]
  },
  {
   "cell_type": "code",
   "execution_count": 219,
   "metadata": {
    "collapsed": false
   },
   "outputs": [
    {
     "data": {
      "image/png": "[encoded data removed]",
      "text/plain": [
       "<matplotlib.figure.Figure at 0x118a08710>"
      ]
     },
     "metadata": {},
     "output_type": "display_data"
    }
   ],
   "source": [
    "ax=contrib_df.drop(['label','pred_prob'],axis=1).plot(kind='box',vert=False)\n",
    "plt.axvline(0,linestyle='--', color='black', lw=1)\n",
    "ax.set_xlabel('Feature Contribution')\n",
    "# row.drop(['label','pred_prob']).plot(kind='barh',ax=ax)\n",
    "for y_coord,(f,v) in enumerate(row.drop(['label','pred_prob']).iteritems()):\n",
    "    plt.scatter(v,y_coord+1,s=100,c='green')\n",
    "\n",
    "for y_coord,(f,v) in enumerate(X_test.iloc[n].iteritems()):\n",
    "    plt.text(-0.4,y_coord+1,'{:2.2f}'.format(v))\n",
    "#     plt.v(v,y_coord,'{:2.2f}'.format(v))"
   ]
  },
  {
   "cell_type": "code",
   "execution_count": 200,
   "metadata": {
    "collapsed": false,
    "scrolled": false
   },
   "outputs": [
    {
     "data": {
      "image/png": "[encoded data removed]",
      "text/plain": [
       "<matplotlib.figure.Figure at 0x11ccbe710>"
      ]
     },
     "metadata": {},
     "output_type": "display_data"
    },
    {
     "data": {
      "image/png": "[encoded data removed]",
      "text/plain": [
       "<matplotlib.figure.Figure at 0x11cca5390>"
      ]
     },
     "metadata": {},
     "output_type": "display_data"
    }
   ],
   "source": [
    "n = 1\n",
    "for n in range(2):\n",
    "    plt.figure()\n",
    "    contrib_df = pd.DataFrame(contrib[:, :, 1], columns=X_train.columns)\n",
    "    contrib_df['label'] = y_test.reset_index(drop=True)\n",
    "    contrib_df['pred_prob'] = pred[:,1]\n",
    "    row = contrib_df.iloc[n]\n",
    "    row.drop(['label','pred_prob']).plot(kind='barh')\n",
    "    plt.title('n:{}; label: {}; prediction: {:1.2f}'.format(n,row['label'],row['pred_prob']))\n",
    "    plt.xlabel('Contribution')\n",
    "    for y_coord,(f,v) in enumerate(X_test.iloc[n].iteritems()):\n",
    "        plt.text(0,y_coord,'{:2.2f}'.format(v))"
   ]
  },
  {
   "cell_type": "code",
   "execution_count": 201,
   "metadata": {
    "collapsed": false
   },
   "outputs": [
    {
     "data": {
      "text/plain": [
       "sex               0.0000\n",
       "length            0.4900\n",
       "diameter          0.3600\n",
       "height            0.1100\n",
       "whole weight      0.5005\n",
       "shucked weight    0.1610\n",
       "viscera weight    0.1070\n",
       "shell weight      0.1950\n",
       "Name: 725, dtype: float64"
      ]
     },
     "execution_count": 201,
     "metadata": {},
     "output_type": "execute_result"
    }
   ],
   "source": [
    "X_test.iloc[n]"
   ]
  },
  {
   "cell_type": "code",
   "execution_count": 89,
   "metadata": {
    "collapsed": false
   },
   "outputs": [
    {
     "name": "stdout",
     "output_type": "stream",
     "text": [
      "Feature ranking:\n",
      "1. feature 7 (0.247644)\n",
      "2. feature 6 (0.141887)\n",
      "3. feature 4 (0.133425)\n",
      "4. feature 3 (0.126210)\n",
      "5. feature 5 (0.115683)\n",
      "6. feature 2 (0.108157)\n",
      "7. feature 1 (0.080572)\n",
      "8. feature 0 (0.046420)\n"
     ]
    },
    {
     "data": {
      "image/png": "[encoded data removed]",
      "text/plain": [
       "<matplotlib.figure.Figure at 0x11214e0d0>"
      ]
     },
     "metadata": {},
     "output_type": "display_data"
    }
   ],
   "source": [
    "importances = dt_clf.feature_importances_\n",
    "std = np.std([tree.feature_importances_ for tree in dt_clf.estimators_],\n",
    "             axis=0)\n",
    "indices = np.argsort(importances)[::-1]\n",
    "\n",
    "\n",
    "\n",
    "\n",
    "# Print the feature ranking\n",
    "print(\"Feature ranking:\")\n",
    "\n",
    "for f in range(X_train.shape[1]):\n",
    "    print(\"%d. feature %d (%f)\" % (f + 1, indices[f], importances[indices[f]]))\n",
    "\n",
    "# Plot the feature importances of the forest\n",
    "plt.figure()\n",
    "plt.title(\"Feature importances\")\n",
    "plt.bar(range(X_train.shape[1]), importances[indices],\n",
    "       color=\"r\", yerr=std[indices], align=\"center\")\n",
    "plt.xticks(range(X_train.shape[1]), indices)\n",
    "plt.xlim([-1, X_train.shape[1]])\n",
    "plt.show()"
   ]
  },
  {
   "cell_type": "code",
   "execution_count": 157,
   "metadata": {
    "collapsed": false
   },
   "outputs": [
    {
     "data": {
      "text/html": [
       "<div>\n",
       "<table border=\"1\" class=\"dataframe\">\n",
       "  <thead>\n",
       "    <tr style=\"text-align: right;\">\n",
       "      <th></th>\n",
       "      <th>features</th>\n",
       "      <th>importances</th>\n",
       "    </tr>\n",
       "  </thead>\n",
       "  <tbody>\n",
       "    <tr>\n",
       "      <th>7</th>\n",
       "      <td>shell weight</td>\n",
       "      <td>0.247644</td>\n",
       "    </tr>\n",
       "    <tr>\n",
       "      <th>6</th>\n",
       "      <td>viscera weight</td>\n",
       "      <td>0.141887</td>\n",
       "    </tr>\n",
       "    <tr>\n",
       "      <th>4</th>\n",
       "      <td>whole weight</td>\n",
       "      <td>0.133425</td>\n",
       "    </tr>\n",
       "    <tr>\n",
       "      <th>3</th>\n",
       "      <td>height</td>\n",
       "      <td>0.126210</td>\n",
       "    </tr>\n",
       "    <tr>\n",
       "      <th>5</th>\n",
       "      <td>shucked weight</td>\n",
       "      <td>0.115683</td>\n",
       "    </tr>\n",
       "    <tr>\n",
       "      <th>2</th>\n",
       "      <td>diameter</td>\n",
       "      <td>0.108157</td>\n",
       "    </tr>\n",
       "    <tr>\n",
       "      <th>1</th>\n",
       "      <td>length</td>\n",
       "      <td>0.080572</td>\n",
       "    </tr>\n",
       "    <tr>\n",
       "      <th>0</th>\n",
       "      <td>sex</td>\n",
       "      <td>0.046420</td>\n",
       "    </tr>\n",
       "  </tbody>\n",
       "</table>\n",
       "</div>"
      ],
      "text/plain": [
       "         features  importances\n",
       "7    shell weight     0.247644\n",
       "6  viscera weight     0.141887\n",
       "4    whole weight     0.133425\n",
       "3          height     0.126210\n",
       "5  shucked weight     0.115683\n",
       "2        diameter     0.108157\n",
       "1          length     0.080572\n",
       "0             sex     0.046420"
      ]
     },
     "execution_count": 157,
     "metadata": {},
     "output_type": "execute_result"
    }
   ],
   "source": [
    "df_importances.sort_values('importances', ascending=False)"
   ]
  },
  {
   "cell_type": "code",
   "execution_count": 158,
   "metadata": {
    "collapsed": false
   },
   "outputs": [
    {
     "data": {
      "text/plain": [
       "pred_prob         0.504473\n",
       "label             0.492823\n",
       "shell weight      0.116193\n",
       "height            0.062380\n",
       "viscera weight    0.055636\n",
       "shucked weight    0.044333\n",
       "diameter          0.038483\n",
       "whole weight      0.038174\n",
       "sex               0.032652\n",
       "length            0.021666\n",
       "dtype: float64"
      ]
     },
     "execution_count": 158,
     "metadata": {},
     "output_type": "execute_result"
    }
   ],
   "source": [
    "np.abs(contrib_df).mean().sort_values(ascending=False)"
   ]
  },
  {
   "cell_type": "code",
   "execution_count": 164,
   "metadata": {
    "collapsed": false
   },
   "outputs": [
    {
     "data": {
      "text/plain": [
       "sex               0.009034\n",
       "length            0.009846\n",
       "shucked weight    0.012535\n",
       "whole weight      0.023584\n",
       "diameter          0.023722\n",
       "viscera weight    0.027067\n",
       "height            0.033301\n",
       "shell weight      0.074137\n",
       "pred_prob         0.712034\n",
       "label             1.000000\n",
       "dtype: float64"
      ]
     },
     "execution_count": 164,
     "metadata": {},
     "output_type": "execute_result"
    }
   ],
   "source": [
    "contrib_df.query('label == 1').mean().sort_values()"
   ]
  },
  {
   "cell_type": "code",
   "execution_count": 163,
   "metadata": {
    "collapsed": false
   },
   "outputs": [
    {
     "data": {
      "text/plain": [
       "sex              -0.005039\n",
       "length           -0.010809\n",
       "diameter         -0.022810\n",
       "height           -0.036210\n",
       "whole weight     -0.022949\n",
       "shucked weight   -0.007461\n",
       "viscera weight   -0.027516\n",
       "shell weight     -0.063229\n",
       "label             0.000000\n",
       "pred_prob         0.302786\n",
       "dtype: float64"
      ]
     },
     "execution_count": 163,
     "metadata": {},
     "output_type": "execute_result"
    }
   ],
   "source": [
    "contrib_df.query('label == 0').mean()"
   ]
  },
  {
   "cell_type": "code",
   "execution_count": null,
   "metadata": {
    "collapsed": true
   },
   "outputs": [],
   "source": []
  },
  {
   "cell_type": "code",
   "execution_count": null,
   "metadata": {
    "collapsed": true
   },
   "outputs": [],
   "source": []
  },
  {
   "cell_type": "code",
   "execution_count": null,
   "metadata": {
    "collapsed": true
   },
   "outputs": [],
   "source": []
  }
 ],
 "metadata": {
  "kernelspec": {
   "display_name": "Python 2",
   "language": "python",
   "name": "python2"
  },
  "language_info": {
   "codemirror_mode": {
    "name": "ipython",
    "version": 2
   },
   "file_extension": ".py",
   "mimetype": "text/x-python",
   "name": "python",
   "nbconvert_exporter": "python",
   "pygments_lexer": "ipython2",
   "version": "2.7.12"
  },
  "nav_menu": {},
  "toc": {
   "navigate_menu": true,
   "number_sections": true,
   "sideBar": true,
   "threshold": 4,
   "toc_cell": false,
   "toc_section_display": "block",
   "toc_window_display": true
  },
  "toc_position": {
   "height": "877px",
   "left": "0px",
   "right": "1831px",
   "top": "106px",
   "width": "212px"
  }
 },
 "nbformat": 4,
 "nbformat_minor": 2
}
